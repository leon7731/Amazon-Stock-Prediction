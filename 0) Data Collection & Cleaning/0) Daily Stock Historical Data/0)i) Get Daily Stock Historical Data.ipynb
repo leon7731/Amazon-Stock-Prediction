{
 "cells": [
  {
   "cell_type": "code",
   "execution_count": 1,
   "metadata": {},
   "outputs": [],
   "source": [
    "import pandas as pd\n",
    "import yfinance as yf"
   ]
  },
  {
   "cell_type": "code",
   "execution_count": 2,
   "metadata": {},
   "outputs": [
    {
     "name": "stderr",
     "output_type": "stream",
     "text": [
      "[*********************100%***********************]  1 of 1 completed\n"
     ]
    },
    {
     "data": {
      "text/html": [
       "<div>\n",
       "<style scoped>\n",
       "    .dataframe tbody tr th:only-of-type {\n",
       "        vertical-align: middle;\n",
       "    }\n",
       "\n",
       "    .dataframe tbody tr th {\n",
       "        vertical-align: top;\n",
       "    }\n",
       "\n",
       "    .dataframe thead th {\n",
       "        text-align: right;\n",
       "    }\n",
       "</style>\n",
       "<table border=\"1\" class=\"dataframe\">\n",
       "  <thead>\n",
       "    <tr style=\"text-align: right;\">\n",
       "      <th></th>\n",
       "      <th>Open</th>\n",
       "      <th>High</th>\n",
       "      <th>Low</th>\n",
       "      <th>Close</th>\n",
       "      <th>Adj Close</th>\n",
       "      <th>Volume</th>\n",
       "    </tr>\n",
       "    <tr>\n",
       "      <th>Date</th>\n",
       "      <th></th>\n",
       "      <th></th>\n",
       "      <th></th>\n",
       "      <th></th>\n",
       "      <th></th>\n",
       "      <th></th>\n",
       "    </tr>\n",
       "  </thead>\n",
       "  <tbody>\n",
       "    <tr>\n",
       "      <th>2009-01-02</th>\n",
       "      <td>2.5675</td>\n",
       "      <td>2.7265</td>\n",
       "      <td>2.5535</td>\n",
       "      <td>2.718</td>\n",
       "      <td>2.718</td>\n",
       "      <td>145928000</td>\n",
       "    </tr>\n",
       "    <tr>\n",
       "      <th>2009-01-05</th>\n",
       "      <td>2.7865</td>\n",
       "      <td>2.7870</td>\n",
       "      <td>2.6515</td>\n",
       "      <td>2.703</td>\n",
       "      <td>2.703</td>\n",
       "      <td>190196000</td>\n",
       "    </tr>\n",
       "    <tr>\n",
       "      <th>2009-01-06</th>\n",
       "      <td>2.7275</td>\n",
       "      <td>2.9110</td>\n",
       "      <td>2.6875</td>\n",
       "      <td>2.868</td>\n",
       "      <td>2.868</td>\n",
       "      <td>221602000</td>\n",
       "    </tr>\n",
       "    <tr>\n",
       "      <th>2009-01-07</th>\n",
       "      <td>2.8145</td>\n",
       "      <td>2.8475</td>\n",
       "      <td>2.7675</td>\n",
       "      <td>2.810</td>\n",
       "      <td>2.810</td>\n",
       "      <td>158854000</td>\n",
       "    </tr>\n",
       "    <tr>\n",
       "      <th>2009-01-08</th>\n",
       "      <td>2.7495</td>\n",
       "      <td>2.8660</td>\n",
       "      <td>2.7290</td>\n",
       "      <td>2.858</td>\n",
       "      <td>2.858</td>\n",
       "      <td>131558000</td>\n",
       "    </tr>\n",
       "  </tbody>\n",
       "</table>\n",
       "</div>"
      ],
      "text/plain": [
       "              Open    High     Low  Close  Adj Close     Volume\n",
       "Date                                                           \n",
       "2009-01-02  2.5675  2.7265  2.5535  2.718      2.718  145928000\n",
       "2009-01-05  2.7865  2.7870  2.6515  2.703      2.703  190196000\n",
       "2009-01-06  2.7275  2.9110  2.6875  2.868      2.868  221602000\n",
       "2009-01-07  2.8145  2.8475  2.7675  2.810      2.810  158854000\n",
       "2009-01-08  2.7495  2.8660  2.7290  2.858      2.858  131558000"
      ]
     },
     "execution_count": 2,
     "metadata": {},
     "output_type": "execute_result"
    }
   ],
   "source": [
    "# Get Daily Stock historical data\n",
    "ticker = 'AMZN'\n",
    "df = yf.download(ticker, start='2009-01-01')\n",
    "df.head()"
   ]
  },
  {
   "cell_type": "code",
   "execution_count": 3,
   "metadata": {},
   "outputs": [],
   "source": [
    "# save to csv\n",
    "df.to_csv(f'{ticker}_daily_historical_data.csv')"
   ]
  }
 ],
 "metadata": {
  "kernelspec": {
   "display_name": ".venv",
   "language": "python",
   "name": "python3"
  },
  "language_info": {
   "codemirror_mode": {
    "name": "ipython",
    "version": 3
   },
   "file_extension": ".py",
   "mimetype": "text/x-python",
   "name": "python",
   "nbconvert_exporter": "python",
   "pygments_lexer": "ipython3",
   "version": "3.12.5"
  }
 },
 "nbformat": 4,
 "nbformat_minor": 2
}
