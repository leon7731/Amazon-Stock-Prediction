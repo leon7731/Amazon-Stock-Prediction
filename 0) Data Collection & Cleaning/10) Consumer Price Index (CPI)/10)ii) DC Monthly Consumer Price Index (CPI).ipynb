{
 "cells": [
  {
   "cell_type": "code",
   "execution_count": 8,
   "metadata": {},
   "outputs": [],
   "source": [
    "import numpy as np\n",
    "import pandas as pd\n",
    "\n",
    "import warnings\n",
    "warnings.filterwarnings('ignore')\n",
    "\n",
    "import seaborn as sns\n",
    "import matplotlib.pyplot as plt\n",
    "import matplotlib.animation as animation\n",
    "\n",
    "\n",
    "import plotly.express as px\n",
    "import plotly.graph_objects as go\n",
    "import plotly.figure_factory as ff\n"
   ]
  },
  {
   "cell_type": "markdown",
   "metadata": {},
   "source": [
    "# Step 1: Loading Dataset"
   ]
  },
  {
   "cell_type": "code",
   "execution_count": 9,
   "metadata": {},
   "outputs": [],
   "source": [
    "# Load the dataset\n",
    "df = pd.read_csv(\"monthly_consumer_price_index.csv\")\n",
    "\n",
    "# Removing leading and trailing spaces from column names\n",
    "df.columns = df.columns.str.strip()\n",
    "\n",
    "# Using a regular expression to replace multiple spaces with a single space in all column names\n",
    "df.columns = df.columns.str.replace(r'\\s+', ' ', regex=True)  "
   ]
  },
  {
   "cell_type": "markdown",
   "metadata": {},
   "source": [
    "# Step 2: Overview of Dataset"
   ]
  },
  {
   "cell_type": "code",
   "execution_count": 10,
   "metadata": {},
   "outputs": [
    {
     "name": "stdout",
     "output_type": "stream",
     "text": [
      "<class 'pandas.core.frame.DataFrame'>\n",
      "RangeIndex: 1340 entries, 0 to 1339\n",
      "Data columns (total 2 columns):\n",
      " #   Column  Non-Null Count  Dtype  \n",
      "---  ------  --------------  -----  \n",
      " 0   date    1340 non-null   object \n",
      " 1   value   1340 non-null   float64\n",
      "dtypes: float64(1), object(1)\n",
      "memory usage: 21.1+ KB\n"
     ]
    }
   ],
   "source": [
    "df.info()"
   ]
  },
  {
   "cell_type": "code",
   "execution_count": 11,
   "metadata": {},
   "outputs": [
    {
     "data": {
      "text/html": [
       "<div>\n",
       "<style scoped>\n",
       "    .dataframe tbody tr th:only-of-type {\n",
       "        vertical-align: middle;\n",
       "    }\n",
       "\n",
       "    .dataframe tbody tr th {\n",
       "        vertical-align: top;\n",
       "    }\n",
       "\n",
       "    .dataframe thead th {\n",
       "        text-align: right;\n",
       "    }\n",
       "</style>\n",
       "<table border=\"1\" class=\"dataframe\">\n",
       "  <thead>\n",
       "    <tr style=\"text-align: right;\">\n",
       "      <th></th>\n",
       "      <th>date</th>\n",
       "      <th>value</th>\n",
       "    </tr>\n",
       "  </thead>\n",
       "  <tbody>\n",
       "    <tr>\n",
       "      <th>0</th>\n",
       "      <td>2024-08-01</td>\n",
       "      <td>314.796</td>\n",
       "    </tr>\n",
       "    <tr>\n",
       "      <th>1</th>\n",
       "      <td>2024-07-01</td>\n",
       "      <td>314.540</td>\n",
       "    </tr>\n",
       "    <tr>\n",
       "      <th>2</th>\n",
       "      <td>2024-06-01</td>\n",
       "      <td>314.175</td>\n",
       "    </tr>\n",
       "    <tr>\n",
       "      <th>3</th>\n",
       "      <td>2024-05-01</td>\n",
       "      <td>314.069</td>\n",
       "    </tr>\n",
       "    <tr>\n",
       "      <th>4</th>\n",
       "      <td>2024-04-01</td>\n",
       "      <td>313.548</td>\n",
       "    </tr>\n",
       "    <tr>\n",
       "      <th>5</th>\n",
       "      <td>2024-03-01</td>\n",
       "      <td>312.332</td>\n",
       "    </tr>\n",
       "    <tr>\n",
       "      <th>6</th>\n",
       "      <td>2024-02-01</td>\n",
       "      <td>310.326</td>\n",
       "    </tr>\n",
       "    <tr>\n",
       "      <th>7</th>\n",
       "      <td>2024-01-01</td>\n",
       "      <td>308.417</td>\n",
       "    </tr>\n",
       "    <tr>\n",
       "      <th>8</th>\n",
       "      <td>2023-12-01</td>\n",
       "      <td>306.746</td>\n",
       "    </tr>\n",
       "    <tr>\n",
       "      <th>9</th>\n",
       "      <td>2023-11-01</td>\n",
       "      <td>307.051</td>\n",
       "    </tr>\n",
       "    <tr>\n",
       "      <th>10</th>\n",
       "      <td>2023-10-01</td>\n",
       "      <td>307.671</td>\n",
       "    </tr>\n",
       "    <tr>\n",
       "      <th>11</th>\n",
       "      <td>2023-09-01</td>\n",
       "      <td>307.789</td>\n",
       "    </tr>\n",
       "    <tr>\n",
       "      <th>12</th>\n",
       "      <td>2023-08-01</td>\n",
       "      <td>307.026</td>\n",
       "    </tr>\n",
       "    <tr>\n",
       "      <th>13</th>\n",
       "      <td>2023-07-01</td>\n",
       "      <td>305.691</td>\n",
       "    </tr>\n",
       "    <tr>\n",
       "      <th>14</th>\n",
       "      <td>2023-06-01</td>\n",
       "      <td>305.109</td>\n",
       "    </tr>\n",
       "    <tr>\n",
       "      <th>15</th>\n",
       "      <td>2023-05-01</td>\n",
       "      <td>304.127</td>\n",
       "    </tr>\n",
       "    <tr>\n",
       "      <th>16</th>\n",
       "      <td>2023-04-01</td>\n",
       "      <td>303.363</td>\n",
       "    </tr>\n",
       "    <tr>\n",
       "      <th>17</th>\n",
       "      <td>2023-03-01</td>\n",
       "      <td>301.836</td>\n",
       "    </tr>\n",
       "    <tr>\n",
       "      <th>18</th>\n",
       "      <td>2023-02-01</td>\n",
       "      <td>300.840</td>\n",
       "    </tr>\n",
       "    <tr>\n",
       "      <th>19</th>\n",
       "      <td>2023-01-01</td>\n",
       "      <td>299.170</td>\n",
       "    </tr>\n",
       "  </tbody>\n",
       "</table>\n",
       "</div>"
      ],
      "text/plain": [
       "          date    value\n",
       "0   2024-08-01  314.796\n",
       "1   2024-07-01  314.540\n",
       "2   2024-06-01  314.175\n",
       "3   2024-05-01  314.069\n",
       "4   2024-04-01  313.548\n",
       "5   2024-03-01  312.332\n",
       "6   2024-02-01  310.326\n",
       "7   2024-01-01  308.417\n",
       "8   2023-12-01  306.746\n",
       "9   2023-11-01  307.051\n",
       "10  2023-10-01  307.671\n",
       "11  2023-09-01  307.789\n",
       "12  2023-08-01  307.026\n",
       "13  2023-07-01  305.691\n",
       "14  2023-06-01  305.109\n",
       "15  2023-05-01  304.127\n",
       "16  2023-04-01  303.363\n",
       "17  2023-03-01  301.836\n",
       "18  2023-02-01  300.840\n",
       "19  2023-01-01  299.170"
      ]
     },
     "execution_count": 11,
     "metadata": {},
     "output_type": "execute_result"
    }
   ],
   "source": [
    "df.head(20)"
   ]
  },
  {
   "cell_type": "markdown",
   "metadata": {},
   "source": [
    "# Step 3: EDA - Missing Values Analysis "
   ]
  },
  {
   "cell_type": "markdown",
   "metadata": {},
   "source": [
    "## Step 3)i): EDA - Show Missing Values in each Column"
   ]
  },
  {
   "cell_type": "code",
   "execution_count": 12,
   "metadata": {},
   "outputs": [],
   "source": [
    "def display_columns_with_null_values(df: pd.DataFrame):\n",
    "    \"\"\"\n",
    "    Displays the total number of null values for each column in the dataframe,\n",
    "    showing only columns that have null values.\n",
    "    \n",
    "    Parameters:\n",
    "    - df (pd.DataFrame): The dataframe to be checked for null values.\n",
    "    \n",
    "    Returns:\n",
    "    - None: Prints the columns with null values and their counts.\n",
    "    \"\"\"\n",
    "    \n",
    "    # Get total null values in each column\n",
    "    total_null_values = df.isnull().sum()\n",
    "    \n",
    "    # Filter out columns that don't have any null values\n",
    "    columns_with_null = total_null_values[total_null_values > 0].sort_values(ascending=False)\n",
    "    \n",
    "    # Check if there are any columns with null values\n",
    "    if not columns_with_null.empty:\n",
    "        print('-' * 64)\n",
    "        print(\"Total null values in each column (only columns with null values)\")\n",
    "        print('-' * 64)\n",
    "        print(columns_with_null)\n",
    "    else:\n",
    "        print('-' * 64)\n",
    "        print(\"Total null values in each column (only columns with null values)\")\n",
    "        print('-' * 64)\n",
    "        print(\"No columns have null values.\")"
   ]
  },
  {
   "cell_type": "code",
   "execution_count": 13,
   "metadata": {},
   "outputs": [
    {
     "name": "stdout",
     "output_type": "stream",
     "text": [
      "--------------------------------------------\n",
      "Percentage(%) of null values in each column\n",
      "--------------------------------------------\n",
      "date     0.0\n",
      "value    0.0\n",
      "dtype: float64\n",
      "\n",
      "\n",
      "----------------------------------------------------------------\n",
      "Total null values in each column (only columns with null values)\n",
      "----------------------------------------------------------------\n",
      "No columns have null values.\n"
     ]
    }
   ],
   "source": [
    "# Get percentage of null values in each column\n",
    "null_values_percentage = df.isnull().mean().round(4).mul(100).sort_values(ascending=False)\n",
    "print('-' * 44)\n",
    "print(\"Percentage(%) of null values in each column\")\n",
    "print('-' * 44)\n",
    "print(null_values_percentage)\n",
    "print('\\n')\n",
    "\n",
    "# Get total null values in each column\n",
    "display_columns_with_null_values(df)\n"
   ]
  },
  {
   "cell_type": "markdown",
   "metadata": {},
   "source": [
    "## Step 3)ii): EDA - Handling Missing Values"
   ]
  },
  {
   "cell_type": "code",
   "execution_count": 14,
   "metadata": {},
   "outputs": [
    {
     "name": "stdout",
     "output_type": "stream",
     "text": [
      "----------------------------------------------------------------\n",
      "Total null values in each column (only columns with null values)\n",
      "----------------------------------------------------------------\n",
      "No columns have null values.\n"
     ]
    }
   ],
   "source": [
    "# Fill Null Values in the Remaining Columns with the average of the column\n",
    "numeric_df = df.select_dtypes(include=[np.number]) # Select only numeric columns\n",
    "numeric_df.fillna(numeric_df.mean(), inplace=True)  # Fill missing values in numeric columns with the column mean\n",
    "df[numeric_df.columns] = numeric_df # Merge back with non-numeric columns if needed\n",
    "\n",
    "# Get total null values in each column\n",
    "display_columns_with_null_values(df)"
   ]
  },
  {
   "cell_type": "code",
   "execution_count": 15,
   "metadata": {},
   "outputs": [
    {
     "data": {
      "text/html": [
       "<div>\n",
       "<style scoped>\n",
       "    .dataframe tbody tr th:only-of-type {\n",
       "        vertical-align: middle;\n",
       "    }\n",
       "\n",
       "    .dataframe tbody tr th {\n",
       "        vertical-align: top;\n",
       "    }\n",
       "\n",
       "    .dataframe thead th {\n",
       "        text-align: right;\n",
       "    }\n",
       "</style>\n",
       "<table border=\"1\" class=\"dataframe\">\n",
       "  <thead>\n",
       "    <tr style=\"text-align: right;\">\n",
       "      <th></th>\n",
       "      <th>date</th>\n",
       "      <th>value</th>\n",
       "    </tr>\n",
       "  </thead>\n",
       "  <tbody>\n",
       "    <tr>\n",
       "      <th>0</th>\n",
       "      <td>2024-08-01</td>\n",
       "      <td>314.796</td>\n",
       "    </tr>\n",
       "    <tr>\n",
       "      <th>1</th>\n",
       "      <td>2024-07-01</td>\n",
       "      <td>314.540</td>\n",
       "    </tr>\n",
       "    <tr>\n",
       "      <th>2</th>\n",
       "      <td>2024-06-01</td>\n",
       "      <td>314.175</td>\n",
       "    </tr>\n",
       "    <tr>\n",
       "      <th>3</th>\n",
       "      <td>2024-05-01</td>\n",
       "      <td>314.069</td>\n",
       "    </tr>\n",
       "    <tr>\n",
       "      <th>4</th>\n",
       "      <td>2024-04-01</td>\n",
       "      <td>313.548</td>\n",
       "    </tr>\n",
       "    <tr>\n",
       "      <th>5</th>\n",
       "      <td>2024-03-01</td>\n",
       "      <td>312.332</td>\n",
       "    </tr>\n",
       "    <tr>\n",
       "      <th>6</th>\n",
       "      <td>2024-02-01</td>\n",
       "      <td>310.326</td>\n",
       "    </tr>\n",
       "    <tr>\n",
       "      <th>7</th>\n",
       "      <td>2024-01-01</td>\n",
       "      <td>308.417</td>\n",
       "    </tr>\n",
       "    <tr>\n",
       "      <th>8</th>\n",
       "      <td>2023-12-01</td>\n",
       "      <td>306.746</td>\n",
       "    </tr>\n",
       "    <tr>\n",
       "      <th>9</th>\n",
       "      <td>2023-11-01</td>\n",
       "      <td>307.051</td>\n",
       "    </tr>\n",
       "    <tr>\n",
       "      <th>10</th>\n",
       "      <td>2023-10-01</td>\n",
       "      <td>307.671</td>\n",
       "    </tr>\n",
       "    <tr>\n",
       "      <th>11</th>\n",
       "      <td>2023-09-01</td>\n",
       "      <td>307.789</td>\n",
       "    </tr>\n",
       "    <tr>\n",
       "      <th>12</th>\n",
       "      <td>2023-08-01</td>\n",
       "      <td>307.026</td>\n",
       "    </tr>\n",
       "    <tr>\n",
       "      <th>13</th>\n",
       "      <td>2023-07-01</td>\n",
       "      <td>305.691</td>\n",
       "    </tr>\n",
       "    <tr>\n",
       "      <th>14</th>\n",
       "      <td>2023-06-01</td>\n",
       "      <td>305.109</td>\n",
       "    </tr>\n",
       "    <tr>\n",
       "      <th>15</th>\n",
       "      <td>2023-05-01</td>\n",
       "      <td>304.127</td>\n",
       "    </tr>\n",
       "    <tr>\n",
       "      <th>16</th>\n",
       "      <td>2023-04-01</td>\n",
       "      <td>303.363</td>\n",
       "    </tr>\n",
       "    <tr>\n",
       "      <th>17</th>\n",
       "      <td>2023-03-01</td>\n",
       "      <td>301.836</td>\n",
       "    </tr>\n",
       "    <tr>\n",
       "      <th>18</th>\n",
       "      <td>2023-02-01</td>\n",
       "      <td>300.840</td>\n",
       "    </tr>\n",
       "    <tr>\n",
       "      <th>19</th>\n",
       "      <td>2023-01-01</td>\n",
       "      <td>299.170</td>\n",
       "    </tr>\n",
       "  </tbody>\n",
       "</table>\n",
       "</div>"
      ],
      "text/plain": [
       "          date    value\n",
       "0   2024-08-01  314.796\n",
       "1   2024-07-01  314.540\n",
       "2   2024-06-01  314.175\n",
       "3   2024-05-01  314.069\n",
       "4   2024-04-01  313.548\n",
       "5   2024-03-01  312.332\n",
       "6   2024-02-01  310.326\n",
       "7   2024-01-01  308.417\n",
       "8   2023-12-01  306.746\n",
       "9   2023-11-01  307.051\n",
       "10  2023-10-01  307.671\n",
       "11  2023-09-01  307.789\n",
       "12  2023-08-01  307.026\n",
       "13  2023-07-01  305.691\n",
       "14  2023-06-01  305.109\n",
       "15  2023-05-01  304.127\n",
       "16  2023-04-01  303.363\n",
       "17  2023-03-01  301.836\n",
       "18  2023-02-01  300.840\n",
       "19  2023-01-01  299.170"
      ]
     },
     "execution_count": 15,
     "metadata": {},
     "output_type": "execute_result"
    }
   ],
   "source": [
    "df.head(20)"
   ]
  },
  {
   "cell_type": "markdown",
   "metadata": {},
   "source": [
    "# Step 4: EDA - Duplicate Values Analysis "
   ]
  },
  {
   "cell_type": "markdown",
   "metadata": {},
   "source": [
    "## Step 4)i): EDA - Show Duplicate Values Rows"
   ]
  },
  {
   "cell_type": "code",
   "execution_count": 16,
   "metadata": {},
   "outputs": [
    {
     "name": "stdout",
     "output_type": "stream",
     "text": [
      "------------------------------------------------\n",
      "Percentage(%) of duplicate rows in the DataFrame\n",
      "------------------------------------------------\n",
      "0.00%\n",
      "\n",
      "\n",
      "------------------------------\n",
      "Total number of duplicate rows\n",
      "------------------------------\n",
      "0\n"
     ]
    }
   ],
   "source": [
    "# Get percentage of duplicate rows\n",
    "total_rows = len(df)\n",
    "duplicate_rows = df.duplicated().sum()\n",
    "duplicate_percentage = (duplicate_rows / total_rows) * 100\n",
    "\n",
    "print('-' * 48)\n",
    "print(\"Percentage(%) of duplicate rows in the DataFrame\")\n",
    "print('-' * 48)\n",
    "print(f\"{duplicate_percentage:.2f}%\")\n",
    "print('\\n')\n",
    "\n",
    "# Get total number of duplicate rows\n",
    "print('-' * 30)\n",
    "print(\"Total number of duplicate rows\")\n",
    "print('-' * 30)\n",
    "print(duplicate_rows)\n"
   ]
  },
  {
   "cell_type": "markdown",
   "metadata": {},
   "source": [
    "## Step 4)ii): EDA - Handling Duplicate Values Rows"
   ]
  },
  {
   "cell_type": "code",
   "execution_count": 17,
   "metadata": {},
   "outputs": [],
   "source": [
    "# # Drop all duplicate rows\n",
    "# df_cleaned = df.drop_duplicates()\n",
    "\n",
    "# print('-' * 22)\n",
    "# print(\"Duplicate rows dropped\")\n",
    "# print('-' * 22)\n",
    "# print(f\"Original number of rows: {total_rows}\")\n",
    "# print(f\"Number of rows after dropping duplicates: {len(df_cleaned)}\")"
   ]
  },
  {
   "cell_type": "markdown",
   "metadata": {},
   "source": [
    "# Step 5): EDA - Save Cleaned Dataset"
   ]
  },
  {
   "cell_type": "code",
   "execution_count": 18,
   "metadata": {},
   "outputs": [],
   "source": [
    "# save to csv\n",
    "df.to_csv(f'DC_monthly_consumer_price_index.csv')"
   ]
  }
 ],
 "metadata": {
  "kernelspec": {
   "display_name": "Python 3",
   "language": "python",
   "name": "python3"
  },
  "language_info": {
   "codemirror_mode": {
    "name": "ipython",
    "version": 3
   },
   "file_extension": ".py",
   "mimetype": "text/x-python",
   "name": "python",
   "nbconvert_exporter": "python",
   "pygments_lexer": "ipython3",
   "version": "3.12.5"
  }
 },
 "nbformat": 4,
 "nbformat_minor": 2
}
