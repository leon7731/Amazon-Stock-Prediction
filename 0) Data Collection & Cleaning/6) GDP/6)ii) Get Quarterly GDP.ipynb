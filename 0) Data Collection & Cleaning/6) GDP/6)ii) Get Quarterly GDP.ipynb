{
 "cells": [
  {
   "cell_type": "code",
   "execution_count": 1,
   "metadata": {},
   "outputs": [],
   "source": [
    "import pandas as pd\n",
    "from statsmodels.tsa.arima.model import ARIMA\n",
    "import matplotlib.pyplot as plt\n",
    "import pprint as pp\n",
    "import requests"
   ]
  },
  {
   "cell_type": "code",
   "execution_count": 2,
   "metadata": {},
   "outputs": [],
   "source": [
    "# Get GDP - Quarterly & Annual\n",
    "\n",
    "api_key = 'YOUR_API_KEY'\n",
    "\n",
    "url = f'https://www.alphavantage.co/query?function=REAL_GDP&interval=quarterly&apikey={api_key}'\n",
    "r = requests.get(url)\n",
    "data = r.json()\n"
   ]
  },
  {
   "cell_type": "code",
   "execution_count": 3,
   "metadata": {},
   "outputs": [
    {
     "data": {
      "text/plain": [
       "dict_keys(['name', 'interval', 'unit', 'data'])"
      ]
     },
     "execution_count": 3,
     "metadata": {},
     "output_type": "execute_result"
    }
   ],
   "source": [
    "data.keys()"
   ]
  },
  {
   "cell_type": "code",
   "execution_count": 4,
   "metadata": {},
   "outputs": [
    {
     "name": "stdout",
     "output_type": "stream",
     "text": [
      "{'data': [{'date': '2024-04-01', 'value': '5817.169'},\n",
      "          {'date': '2024-01-01', 'value': '5638.455'},\n",
      "          {'date': '2023-10-01', 'value': '5831.583'},\n",
      "          {'date': '2023-07-01', 'value': '5724.051'},\n",
      "          {'date': '2023-04-01', 'value': '5646.288'},\n",
      "          {'date': '2023-01-01', 'value': '5469.175'},\n",
      "          {'date': '2022-10-01', 'value': '5668.877'},\n",
      "          {'date': '2022-07-01', 'value': '5544.386'},\n",
      "          {'date': '2022-04-01', 'value': '5484.289'},\n",
      "          {'date': '2022-01-01', 'value': '5337.277'},\n",
      "          {'date': '2021-10-01', 'value': '5591.973'},\n",
      "          {'date': '2021-07-01', 'value': '5408.478'},\n",
      "          {'date': '2021-04-01', 'value': '5360.97'},\n",
      "          {'date': '2021-01-01', 'value': '5133.377'},\n",
      "          {'date': '2020-10-01', 'value': '5298.828'},\n",
      "          {'date': '2020-07-01', 'value': '5134.93'},\n",
      "          {'date': '2020-04-01', 'value': '4783.855'},\n",
      "          {'date': '2020-01-01', 'value': '5049.973'},\n",
      "          {'date': '2019-10-01', 'value': '5351.022'},\n",
      "          {'date': '2019-07-01', 'value': '5232.278'},\n",
      "          {'date': '2019-04-01', 'value': '5159.323'},\n",
      "          {'date': '2019-01-01', 'value': '4973.048'},\n",
      "          {'date': '2018-10-01', 'value': '5170.563'},\n",
      "          {'date': '2018-07-01', 'value': '5092.532'},\n",
      "          {'date': '2018-04-01', 'value': '5039.983'},\n",
      "          {'date': '2018-01-01', 'value': '4890.817'},\n",
      "          {'date': '2017-10-01', 'value': '5069.624'},\n",
      "          {'date': '2017-07-01', 'value': '4950.878'},\n",
      "          {'date': '2017-04-01', 'value': '4893.234'},\n",
      "          {'date': '2017-01-01', 'value': '4698.367'},\n",
      "          {'date': '2016-10-01', 'value': '4912.331'},\n",
      "          {'date': '2016-07-01', 'value': '4819.182'},\n",
      "          {'date': '2016-04-01', 'value': '4768.308'},\n",
      "          {'date': '2016-01-01', 'value': '4641.851'},\n",
      "          {'date': '2015-10-01', 'value': '4799.354'},\n",
      "          {'date': '2015-07-01', 'value': '4741.07'},\n",
      "          {'date': '2015-04-01', 'value': '4696.817'},\n",
      "          {'date': '2015-01-01', 'value': '4562.381'},\n",
      "          {'date': '2014-10-01', 'value': '4709.584'},\n",
      "          {'date': '2014-07-01', 'value': '4616.61'},\n",
      "          {'date': '2014-04-01', 'value': '4532.342'},\n",
      "          {'date': '2014-01-01', 'value': '4403.178'},\n",
      "          {'date': '2013-10-01', 'value': '4586.321'},\n",
      "          {'date': '2013-07-01', 'value': '4486.445'},\n",
      "          {'date': '2013-04-01', 'value': '4419.14'},\n",
      "          {'date': '2013-01-01', 'value': '4320.262'},\n",
      "          {'date': '2012-10-01', 'value': '4440.555'},\n",
      "          {'date': '2012-07-01', 'value': '4376.682'},\n",
      "          {'date': '2012-04-01', 'value': '4345.706'},\n",
      "          {'date': '2012-01-01', 'value': '4279.816'},\n",
      "          {'date': '2011-10-01', 'value': '4371.813'},\n",
      "          {'date': '2011-07-01', 'value': '4273.162'},\n",
      "          {'date': '2011-04-01', 'value': '4251.8'},\n",
      "          {'date': '2011-01-01', 'value': '4155.635'},\n",
      "          {'date': '2010-10-01', 'value': '4316.573'},\n",
      "          {'date': '2010-07-01', 'value': '4229.41'},\n",
      "          {'date': '2010-04-01', 'value': '4188.706'},\n",
      "          {'date': '2010-01-01', 'value': '4055.062'},\n",
      "          {'date': '2009-10-01', 'value': '4209.064'},\n",
      "          {'date': '2009-07-01', 'value': '4102.854'},\n",
      "          {'date': '2009-04-01', 'value': '4060.384'},\n",
      "          {'date': '2009-01-01', 'value': '3976.808'},\n",
      "          {'date': '2008-10-01', 'value': '4179.959'},\n",
      "          {'date': '2008-07-01', 'value': '4192.399'},\n",
      "          {'date': '2008-04-01', 'value': '4226.589'},\n",
      "          {'date': '2008-01-01', 'value': '4182.537'},\n",
      "          {'date': '2007-10-01', 'value': '4305.666'},\n",
      "          {'date': '2007-07-01', 'value': '4208.612'},\n",
      "          {'date': '2007-04-01', 'value': '4184.414'},\n",
      "          {'date': '2007-01-01', 'value': '4063.753'},\n",
      "          {'date': '2006-10-01', 'value': '4201.0'},\n",
      "          {'date': '2006-07-01', 'value': '4111.947'},\n",
      "          {'date': '2006-04-01', 'value': '4116.718'},\n",
      "          {'date': '2006-01-01', 'value': '4003.482'},\n",
      "          {'date': '2005-10-01', 'value': '4107.378'},\n",
      "          {'date': '2005-07-01', 'value': '4040.686'},\n",
      "          {'date': '2005-04-01', 'value': '3972.818'},\n",
      "          {'date': '2005-01-01', 'value': '3867.076'},\n",
      "          {'date': '2004-10-01', 'value': '3990.913'},\n",
      "          {'date': '2004-07-01', 'value': '3879.617'},\n",
      "          {'date': '2004-04-01', 'value': '3837.587'},\n",
      "          {'date': '2004-01-01', 'value': '3741.64'},\n",
      "          {'date': '2003-10-01', 'value': '3860.185'},\n",
      "          {'date': '2003-07-01', 'value': '3753.431'},\n",
      "          {'date': '2003-04-01', 'value': '3680.929'},\n",
      "          {'date': '2003-01-01', 'value': '3582.767'},\n",
      "          {'date': '2002-10-01', 'value': '3712.845'},\n",
      "          {'date': '2002-07-01', 'value': '3650.253'},\n",
      "          {'date': '2002-04-01', 'value': '3608.496'},\n",
      "          {'date': '2002-01-01', 'value': '3501.118'}],\n",
      " 'interval': 'quarterly',\n",
      " 'name': 'Real Gross Domestic Product',\n",
      " 'unit': 'billions of dollars'}\n"
     ]
    }
   ],
   "source": [
    "pp.pprint(data) "
   ]
  },
  {
   "cell_type": "code",
   "execution_count": 5,
   "metadata": {},
   "outputs": [
    {
     "data": {
      "text/html": [
       "<div>\n",
       "<style scoped>\n",
       "    .dataframe tbody tr th:only-of-type {\n",
       "        vertical-align: middle;\n",
       "    }\n",
       "\n",
       "    .dataframe tbody tr th {\n",
       "        vertical-align: top;\n",
       "    }\n",
       "\n",
       "    .dataframe thead th {\n",
       "        text-align: right;\n",
       "    }\n",
       "</style>\n",
       "<table border=\"1\" class=\"dataframe\">\n",
       "  <thead>\n",
       "    <tr style=\"text-align: right;\">\n",
       "      <th></th>\n",
       "      <th>date</th>\n",
       "      <th>value</th>\n",
       "    </tr>\n",
       "  </thead>\n",
       "  <tbody>\n",
       "    <tr>\n",
       "      <th>0</th>\n",
       "      <td>2024-04-01</td>\n",
       "      <td>5817.169</td>\n",
       "    </tr>\n",
       "    <tr>\n",
       "      <th>1</th>\n",
       "      <td>2024-01-01</td>\n",
       "      <td>5638.455</td>\n",
       "    </tr>\n",
       "    <tr>\n",
       "      <th>2</th>\n",
       "      <td>2023-10-01</td>\n",
       "      <td>5831.583</td>\n",
       "    </tr>\n",
       "    <tr>\n",
       "      <th>3</th>\n",
       "      <td>2023-07-01</td>\n",
       "      <td>5724.051</td>\n",
       "    </tr>\n",
       "    <tr>\n",
       "      <th>4</th>\n",
       "      <td>2023-04-01</td>\n",
       "      <td>5646.288</td>\n",
       "    </tr>\n",
       "  </tbody>\n",
       "</table>\n",
       "</div>"
      ],
      "text/plain": [
       "         date     value\n",
       "0  2024-04-01  5817.169\n",
       "1  2024-01-01  5638.455\n",
       "2  2023-10-01  5831.583\n",
       "3  2023-07-01  5724.051\n",
       "4  2023-04-01  5646.288"
      ]
     },
     "execution_count": 5,
     "metadata": {},
     "output_type": "execute_result"
    }
   ],
   "source": [
    "quarterly_gdp_df = pd.DataFrame(data['data'])\n",
    "quarterly_gdp_df.head()"
   ]
  },
  {
   "cell_type": "code",
   "execution_count": 6,
   "metadata": {},
   "outputs": [],
   "source": [
    "quarterly_gdp_df.to_csv(f'quarterly_GDP.csv', index=False)"
   ]
  }
 ],
 "metadata": {
  "kernelspec": {
   "display_name": ".venv",
   "language": "python",
   "name": "python3"
  },
  "language_info": {
   "codemirror_mode": {
    "name": "ipython",
    "version": 3
   },
   "file_extension": ".py",
   "mimetype": "text/x-python",
   "name": "python",
   "nbconvert_exporter": "python",
   "pygments_lexer": "ipython3",
   "version": "3.12.5"
  }
 },
 "nbformat": 4,
 "nbformat_minor": 2
}
