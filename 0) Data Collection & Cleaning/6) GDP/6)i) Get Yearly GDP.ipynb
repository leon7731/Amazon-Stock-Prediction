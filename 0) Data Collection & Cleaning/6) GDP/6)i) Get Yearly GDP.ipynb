{
 "cells": [
  {
   "cell_type": "code",
   "execution_count": 7,
   "metadata": {},
   "outputs": [],
   "source": [
    "import pandas as pd\n",
    "from statsmodels.tsa.arima.model import ARIMA\n",
    "import matplotlib.pyplot as plt\n",
    "import pprint as pp\n",
    "import requests"
   ]
  },
  {
   "cell_type": "code",
   "execution_count": 8,
   "metadata": {},
   "outputs": [],
   "source": [
    "# Get GDP - Quarterly & Annual\n",
    "\n",
    "api_key = 'YOUR_API_KEY'\n",
    "\n",
    "url = f'https://www.alphavantage.co/query?function=REAL_GDP&interval=annual&apikey={api_key}'\n",
    "r = requests.get(url)\n",
    "data = r.json()\n"
   ]
  },
  {
   "cell_type": "code",
   "execution_count": 9,
   "metadata": {},
   "outputs": [
    {
     "data": {
      "text/plain": [
       "dict_keys(['name', 'interval', 'unit', 'data'])"
      ]
     },
     "execution_count": 9,
     "metadata": {},
     "output_type": "execute_result"
    }
   ],
   "source": [
    "data.keys()"
   ]
  },
  {
   "cell_type": "code",
   "execution_count": 10,
   "metadata": {},
   "outputs": [
    {
     "name": "stdout",
     "output_type": "stream",
     "text": [
      "{'data': [{'date': '2023-01-01', 'value': '22671.096'},\n",
      "          {'date': '2022-01-01', 'value': '22034.828'},\n",
      "          {'date': '2021-01-01', 'value': '21494.798'},\n",
      "          {'date': '2020-01-01', 'value': '20267.585'},\n",
      "          {'date': '2019-01-01', 'value': '20715.671'},\n",
      "          {'date': '2018-01-01', 'value': '20193.896'},\n",
      "          {'date': '2017-01-01', 'value': '19612.102'},\n",
      "          {'date': '2016-01-01', 'value': '19141.672'},\n",
      "          {'date': '2015-01-01', 'value': '18799.622'},\n",
      "          {'date': '2014-01-01', 'value': '18261.714'},\n",
      "          {'date': '2013-01-01', 'value': '17812.167'},\n",
      "          {'date': '2012-01-01', 'value': '17442.759'},\n",
      "          {'date': '2011-01-01', 'value': '17052.41'},\n",
      "          {'date': '2010-01-01', 'value': '16789.75'},\n",
      "          {'date': '2009-01-01', 'value': '16349.11'},\n",
      "          {'date': '2008-01-01', 'value': '16781.485'},\n",
      "          {'date': '2007-01-01', 'value': '16762.445'},\n",
      "          {'date': '2006-01-01', 'value': '16433.148'},\n",
      "          {'date': '2005-01-01', 'value': '15987.957'},\n",
      "          {'date': '2004-01-01', 'value': '15449.757'},\n",
      "          {'date': '2003-01-01', 'value': '14877.312'},\n",
      "          {'date': '2002-01-01', 'value': '14472.712'},\n",
      "          {'date': '2001-01-01', 'value': '14230.726'},\n",
      "          {'date': '2000-01-01', 'value': '14096.033'},\n",
      "          {'date': '1999-01-01', 'value': '13543.774'},\n",
      "          {'date': '1998-01-01', 'value': '12924.876'},\n",
      "          {'date': '1997-01-01', 'value': '12370.299'},\n",
      "          {'date': '1996-01-01', 'value': '11843.599'},\n",
      "          {'date': '1995-01-01', 'value': '11413.012'},\n",
      "          {'date': '1994-01-01', 'value': '11114.647'},\n",
      "          {'date': '1993-01-01', 'value': '10684.179'},\n",
      "          {'date': '1992-01-01', 'value': '10398.046'},\n",
      "          {'date': '1991-01-01', 'value': '10044.238'},\n",
      "          {'date': '1990-01-01', 'value': '10055.129'},\n",
      "          {'date': '1989-01-01', 'value': '9869.003'},\n",
      "          {'date': '1988-01-01', 'value': '9519.427'},\n",
      "          {'date': '1987-01-01', 'value': '9137.745'},\n",
      "          {'date': '1986-01-01', 'value': '8832.611'},\n",
      "          {'date': '1985-01-01', 'value': '8537.004'},\n",
      "          {'date': '1984-01-01', 'value': '8195.295'},\n",
      "          {'date': '1983-01-01', 'value': '7642.266'},\n",
      "          {'date': '1982-01-01', 'value': '7307.314'},\n",
      "          {'date': '1981-01-01', 'value': '7441.485'},\n",
      "          {'date': '1980-01-01', 'value': '7257.316'},\n",
      "          {'date': '1979-01-01', 'value': '7275.999'},\n",
      "          {'date': '1978-01-01', 'value': '7052.711'},\n",
      "          {'date': '1977-01-01', 'value': '6682.804'},\n",
      "          {'date': '1976-01-01', 'value': '6387.437'},\n",
      "          {'date': '1975-01-01', 'value': '6060.875'},\n",
      "          {'date': '1974-01-01', 'value': '6073.363'},\n",
      "          {'date': '1973-01-01', 'value': '6106.371'},\n",
      "          {'date': '1972-01-01', 'value': '5780.048'},\n",
      "          {'date': '1971-01-01', 'value': '5491.445'},\n",
      "          {'date': '1970-01-01', 'value': '5316.391'},\n",
      "          {'date': '1969-01-01', 'value': '5306.594'},\n",
      "          {'date': '1968-01-01', 'value': '5145.914'},\n",
      "          {'date': '1967-01-01', 'value': '4904.864'},\n",
      "          {'date': '1966-01-01', 'value': '4773.931'},\n",
      "          {'date': '1965-01-01', 'value': '4478.555'},\n",
      "          {'date': '1964-01-01', 'value': '4205.277'},\n",
      "          {'date': '1963-01-01', 'value': '3976.142'},\n",
      "          {'date': '1962-01-01', 'value': '3810.124'},\n",
      "          {'date': '1961-01-01', 'value': '3590.066'},\n",
      "          {'date': '1960-01-01', 'value': '3500.272'},\n",
      "          {'date': '1959-01-01', 'value': '3412.421'},\n",
      "          {'date': '1958-01-01', 'value': '3191.216'},\n",
      "          {'date': '1957-01-01', 'value': '3215.065'},\n",
      "          {'date': '1956-01-01', 'value': '3148.765'},\n",
      "          {'date': '1955-01-01', 'value': '3083.026'},\n",
      "          {'date': '1954-01-01', 'value': '2877.708'},\n",
      "          {'date': '1953-01-01', 'value': '2894.411'},\n",
      "          {'date': '1952-01-01', 'value': '2764.803'},\n",
      "          {'date': '1951-01-01', 'value': '2656.32'},\n",
      "          {'date': '1950-01-01', 'value': '2458.532'},\n",
      "          {'date': '1949-01-01', 'value': '2261.928'},\n",
      "          {'date': '1948-01-01', 'value': '2274.627'},\n",
      "          {'date': '1947-01-01', 'value': '2184.614'},\n",
      "          {'date': '1946-01-01', 'value': '2209.911'},\n",
      "          {'date': '1945-01-01', 'value': '2500.057'},\n",
      "          {'date': '1944-01-01', 'value': '2524.752'},\n",
      "          {'date': '1943-01-01', 'value': '2338.761'},\n",
      "          {'date': '1942-01-01', 'value': '1998.542'},\n",
      "          {'date': '1941-01-01', 'value': '1681.049'},\n",
      "          {'date': '1940-01-01', 'value': '1428.075'},\n",
      "          {'date': '1939-01-01', 'value': '1312.365'},\n",
      "          {'date': '1938-01-01', 'value': '1214.869'},\n",
      "          {'date': '1937-01-01', 'value': '1256.503'},\n",
      "          {'date': '1936-01-01', 'value': '1195.251'},\n",
      "          {'date': '1935-01-01', 'value': '1058.836'},\n",
      "          {'date': '1934-01-01', 'value': '972.263'},\n",
      "          {'date': '1933-01-01', 'value': '877.431'},\n",
      "          {'date': '1932-01-01', 'value': '888.414'},\n",
      "          {'date': '1931-01-01', 'value': '1019.977'},\n",
      "          {'date': '1930-01-01', 'value': '1089.785'},\n",
      "          {'date': '1929-01-01', 'value': '1191.124'}],\n",
      " 'interval': 'annual',\n",
      " 'name': 'Real Gross Domestic Product',\n",
      " 'unit': 'billions of dollars'}\n"
     ]
    }
   ],
   "source": [
    "pp.pprint(data) "
   ]
  },
  {
   "cell_type": "code",
   "execution_count": 11,
   "metadata": {},
   "outputs": [
    {
     "data": {
      "text/html": [
       "<div>\n",
       "<style scoped>\n",
       "    .dataframe tbody tr th:only-of-type {\n",
       "        vertical-align: middle;\n",
       "    }\n",
       "\n",
       "    .dataframe tbody tr th {\n",
       "        vertical-align: top;\n",
       "    }\n",
       "\n",
       "    .dataframe thead th {\n",
       "        text-align: right;\n",
       "    }\n",
       "</style>\n",
       "<table border=\"1\" class=\"dataframe\">\n",
       "  <thead>\n",
       "    <tr style=\"text-align: right;\">\n",
       "      <th></th>\n",
       "      <th>date</th>\n",
       "      <th>value</th>\n",
       "    </tr>\n",
       "  </thead>\n",
       "  <tbody>\n",
       "    <tr>\n",
       "      <th>0</th>\n",
       "      <td>2023-01-01</td>\n",
       "      <td>22671.096</td>\n",
       "    </tr>\n",
       "    <tr>\n",
       "      <th>1</th>\n",
       "      <td>2022-01-01</td>\n",
       "      <td>22034.828</td>\n",
       "    </tr>\n",
       "    <tr>\n",
       "      <th>2</th>\n",
       "      <td>2021-01-01</td>\n",
       "      <td>21494.798</td>\n",
       "    </tr>\n",
       "    <tr>\n",
       "      <th>3</th>\n",
       "      <td>2020-01-01</td>\n",
       "      <td>20267.585</td>\n",
       "    </tr>\n",
       "    <tr>\n",
       "      <th>4</th>\n",
       "      <td>2019-01-01</td>\n",
       "      <td>20715.671</td>\n",
       "    </tr>\n",
       "  </tbody>\n",
       "</table>\n",
       "</div>"
      ],
      "text/plain": [
       "         date      value\n",
       "0  2023-01-01  22671.096\n",
       "1  2022-01-01  22034.828\n",
       "2  2021-01-01  21494.798\n",
       "3  2020-01-01  20267.585\n",
       "4  2019-01-01  20715.671"
      ]
     },
     "execution_count": 11,
     "metadata": {},
     "output_type": "execute_result"
    }
   ],
   "source": [
    "yearly_gdp_df = pd.DataFrame(data['data'])\n",
    "yearly_gdp_df.head()"
   ]
  },
  {
   "cell_type": "code",
   "execution_count": 12,
   "metadata": {},
   "outputs": [],
   "source": [
    "yearly_gdp_df.to_csv(f'yearly_GDP.csv', index=False)"
   ]
  }
 ],
 "metadata": {
  "kernelspec": {
   "display_name": ".venv",
   "language": "python",
   "name": "python3"
  },
  "language_info": {
   "codemirror_mode": {
    "name": "ipython",
    "version": 3
   },
   "file_extension": ".py",
   "mimetype": "text/x-python",
   "name": "python",
   "nbconvert_exporter": "python",
   "pygments_lexer": "ipython3",
   "version": "3.12.5"
  }
 },
 "nbformat": 4,
 "nbformat_minor": 2
}
